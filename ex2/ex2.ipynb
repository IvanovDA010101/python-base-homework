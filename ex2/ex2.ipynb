{
 "cells": [
  {
   "cell_type": "code",
   "execution_count": 1,
   "metadata": {},
   "outputs": [],
   "source": [
    "import pandas as pd"
   ]
  },
  {
   "cell_type": "code",
   "execution_count": 2,
   "metadata": {
    "collapsed": false,
    "jupyter": {
     "outputs_hidden": false
    }
   },
   "outputs": [
    {
     "name": "stdout",
     "output_type": "stream",
     "text": [
      "<class 'pandas.core.frame.DataFrame'>\n",
      "RangeIndex: 18800 entries, 0 to 18799\n",
      "Data columns (total 7 columns):\n",
      " #   Column        Non-Null Count  Dtype \n",
      "---  ------        --------------  ----- \n",
      " 0   index         18800 non-null  int64 \n",
      " 1   name          18800 non-null  object\n",
      " 2   platform      18800 non-null  object\n",
      " 3   release_date  18800 non-null  object\n",
      " 4   summary       18686 non-null  object\n",
      " 5   meta_score    18800 non-null  int64 \n",
      " 6   user_review   18800 non-null  object\n",
      "dtypes: int64(2), object(5)\n",
      "memory usage: 1.0+ MB\n"
     ]
    }
   ],
   "source": [
    "dataset = pd.read_csv(\"all_games.csv\")\n",
    "dataset.info()"
   ]
  },
  {
   "cell_type": "code",
   "execution_count": 3,
   "metadata": {
    "collapsed": false,
    "jupyter": {
     "outputs_hidden": false
    }
   },
   "outputs": [],
   "source": [
    "missing_values = dataset.isnull().sum()\n"
   ]
  },
  {
   "cell_type": "code",
   "execution_count": 4,
   "metadata": {
    "collapsed": false,
    "jupyter": {
     "outputs_hidden": false
    }
   },
   "outputs": [
    {
     "name": "stdout",
     "output_type": "stream",
     "text": [
      "index             0\n",
      "name              0\n",
      "platform          0\n",
      "release_date      0\n",
      "summary         114\n",
      "meta_score        0\n",
      "user_review       0\n",
      "dtype: int64\n"
     ]
    }
   ],
   "source": [
    "print(missing_values)"
   ]
  },
  {
   "cell_type": "code",
   "execution_count": 6,
   "metadata": {
    "collapsed": false,
    "jupyter": {
     "outputs_hidden": false
    }
   },
   "outputs": [],
   "source": [
    "dataset[\"summary\"] = dataset[\"summary\"].fillna('non data')"
   ]
  },
  {
   "cell_type": "code",
   "execution_count": 7,
   "metadata": {
    "collapsed": false,
    "jupyter": {
     "outputs_hidden": false
    }
   },
   "outputs": [
    {
     "name": "stdout",
     "output_type": "stream",
     "text": [
      "\n",
      "Уникальные значения для name:\n",
      "['The Legend of Zelda: Ocarina of Time' \"Tony Hawk's Pro Skater 2\"\n",
      " 'Grand Theft Auto IV' ... 'Drake of the 99 Dragons'\n",
      " 'Afro Samurai 2: Revenge of Kuma Volume One'\n",
      " 'Infestation: Survivor Stories (The War Z)']\n",
      "\n",
      "Подсчеты значений для name:\n",
      "name\n",
      "Cars                                         9\n",
      "Madden NFL 07                                9\n",
      "Madden NFL 06                                8\n",
      "Iron Man                                     7\n",
      "Resident Evil 2                              7\n",
      "                                            ..\n",
      "Phantom: Covert Ops                          1\n",
      "Hydro Thunder Hurricane                      1\n",
      "The Stretchers                               1\n",
      "Broken Sword 5 - The Serpent's Curse         1\n",
      "Infestation: Survivor Stories (The War Z)    1\n",
      "Name: count, Length: 12254, dtype: int64\n",
      "\n",
      "Уникальные значения для platform:\n",
      "[' Nintendo 64' ' PlayStation' ' PlayStation 3' ' Dreamcast' ' Xbox 360'\n",
      " ' Wii' ' Xbox One' ' PC' ' Switch' ' PlayStation 2' ' PlayStation 4'\n",
      " ' GameCube' ' Xbox' ' Wii U' ' Game Boy Advance' ' 3DS' ' Xbox Series X'\n",
      " ' DS' ' PlayStation Vita' ' PlayStation 5' ' PSP' ' Stadia']\n",
      "\n",
      "Подсчеты значений для platform:\n",
      "platform\n",
      " PC                  4864\n",
      " PlayStation 4       2056\n",
      " Xbox 360            1644\n",
      " PlayStation 2       1414\n",
      " Switch              1399\n",
      " PlayStation 3       1256\n",
      " Xbox One            1179\n",
      " Xbox                 789\n",
      " DS                   720\n",
      " Wii                  655\n",
      " PSP                  512\n",
      " GameCube             448\n",
      " Game Boy Advance     438\n",
      " 3DS                  396\n",
      " PlayStation Vita     257\n",
      " PlayStation          187\n",
      " Wii U                184\n",
      " Dreamcast            125\n",
      " PlayStation 5        124\n",
      " Xbox Series X         77\n",
      " Nintendo 64           71\n",
      " Stadia                 5\n",
      "Name: count, dtype: int64\n",
      "\n",
      "Уникальные значения для release_date:\n",
      "['November 23, 1998' 'September 20, 2000' 'April 29, 2008' ...\n",
      " 'July 5, 2007' 'April 25, 2001' 'July 6, 2006']\n",
      "\n",
      "Подсчеты значений для release_date:\n",
      "release_date\n",
      "November 14, 2006    48\n",
      "November 13, 2007    41\n",
      "March 20, 2007       40\n",
      "November 10, 2020    34\n",
      "November 18, 2012    33\n",
      "                     ..\n",
      "August 28, 2006       1\n",
      "February 24, 2021     1\n",
      "March 19, 2015        1\n",
      "April 7, 2021         1\n",
      "July 6, 2006          1\n",
      "Name: count, Length: 4533, dtype: int64\n",
      "\n",
      "Уникальные значения для summary:\n",
      "['As a young boy, Link is tricked by Ganondorf, the King of the Gerudo Thieves. The evil human uses Link to gain access to the Sacred Realm, where he places his tainted hands on Triforce and transforms the beautiful Hyrulean landscape into a barren wasteland. Link is determined to fix the problems he helped to create, so with the help of Rauru he travels through time gathering the powers of the Seven Sages.'\n",
      " \"As most major publishers' development efforts shift to any number of next-generation platforms, Tony Hawk 2 will likely stand as one of the last truly fantastic games to be released on the PlayStation.\"\n",
      " '[Metacritic\\'s 2008 PS3 Game of the Year; Also known as \"GTA IV\"] What does the American Dream mean today? For Niko Belic, fresh off the boat from Europe. It\\'s the hope he can escape his past. For his cousin, Roman, it is the vision that together they can find fortune in Liberty City, gateway to the land of opportunity. As they slip into debt and are dragged into a criminal underworld by a series of shysters, thieves and sociopaths, they discover that the reality is very different from the dream in a city that worships money and status, and is heaven for those who have them an a living nightmare for those who don\\'t. [Rockstar Games]'\n",
      " ...\n",
      " \"Drake is out for revenge in a supernatural Hong Kong world. You'll join Drake in 25 intense missions, as he battles ruthless villains and female assassins with an array of firearms, short and long blade weapons, and thrown melee weapons. Use Drake's power and agility to slow down the action, fire guns in any direction, and run and backflip off of walls. When you become injured, you can feed on the souls of the dead to replenish your health.\"\n",
      " 'Head out on a journey of redemption, driven by bitter-sweet revenge. The saga of Afro Samurai continues but this time follows the path of Kuma, one of Afro’s closest childhood friends.'\n",
      " '(Formerly known as \"The War Z\") It has been 5 years since the outbreak, giving rise to a post-apocalyptic nightmare with 95% of the human race wiped out. To survive, you\\'ll require food, weapons, and other supplies. Some of you will scavenge as you negotiate the terrain, others will be forced to fight for survival as they encounter zombies and other players. Every decision has an effect on whether you live or how quickly you meet your death.']\n",
      "\n",
      "Подсчеты значений для summary:\n",
      "summary\n",
      "non data                                                                                                                                                                                                                                                                                                                                                                                                                                                                                                                                                                                                                                                                                                                                                                                                                                                                                                                                                                                                                                                                                                                                                                                                                                                                                                                                                                                                                                                                                                           114\n",
      "LEGO Indiana Jones: The Original Adventures takes the fun and creative construction of LEGO and combines it with the wits, daring and non-stop action from the original cinematic adventures that enthralled audiences everywhere (Indiana Jones and the Raiders of the Lost Ark, Indiana Jones and the Temple of Doom and Indiana Jones and the Last Crusade). With a unique tongue-in-cheek take on the original adventures, LEGO Indiana Jones follows Dr. Jones escapades through the jungles of South America to the mountaintops of India. Fans can build, battle and brawl their way through their favorite cinematic moments, from Indy's entanglements with snakes to his dashing boulder run. Pop culture's most iconic archeologist whips through all the classic moments with the help of a host of supporting characters including Marion Ravenwood and Short Round. Players can also mix and match the body parts of more than 60 playable characters to create new heroes just as they could in the LEGO Star Wars games. [LucasArts]                                                                                                                                                                                                                                                                                                                                                                                                                                                                 7\n",
      "The game involves players creating and destroying various types of blocks in a three dimensional environment. The player takes an avatar that can destroy or create blocks, forming fantastic structures, creations and artwork across the various multiplayer servers in multiple game modes.                                                                                                                                                                                                                                                                                                                                                                                                                                                                                                                                                                                                                                                                                                                                                                                                                                                                                                                                                                                                                                                                                                                                                                                                                       7\n",
      "Iron Man, an explosive third-person action shooter game that pits one of the world's most renowned Super Heroes against unspeakable odds, draws its story from the upcoming movie while also incorporating story elements from original Iron Man comic books. Using the advanced technology in Iron Man's suits of armour, gamers can take advantage of the wide array of high-impact weapons to strategically annihilate any enemy force standing in their way. Before tackling stunning and immense open battlefields, players can customise their armour suit as they encounter progressively more vicious enemies, and fight in epic battles that could challenge even the toughest Super Heroes. [Sega]                                                                                                                                                                                                                                                                                                                                                                                                                                                                                                                                                                                                                                                                                                                                                                                                         7\n",
      "In Harry Potter and the Order of the Phoenix, Harry returns for his fifth year of study at Hogwarts and discovers that much of the wizarding community has been denied the truth about the teenager’s recent encounter with the evil Lord Voldemort. Fearing that Hogwarts' venerable Headmaster, Albus Dumbledore, is lying about Voldemort's return in order to undermine his power and take his job, the Minister for Magic, Cornelius Fudge, appoints a new Defense Against the Dark Arts teacher to keep watch over Dumbledore and the Hogwarts students. But Professor Dolores Umbridge's Ministry-approved course of defensive magic leaves the young wizards woefully unprepared to defend themselves against the dark forces threatening them and the entire wizarding community, so at the prompting of his friends Hermione and Ron, Harry takes matters into his own hands. Meeting secretly with a small group of students who name themselves \"Dumbledore’s Army,\" Harry teaches them how to defend themselves against the Dark Arts, preparing the courageous young wizards for the extraordinary battle that lies ahead. With the ability to play multiple characters, including Harry Potter, Dumbledore and Sirius Black, the videogame of Harry Potter and the Order of the Phoenix offers fans the opportunity to wield a wand, explore all around Hogwarts, and experience one of the most exciting and dangerous years in the life of the Boy Who Lived. [Electronic Arts / Warner Bros.]      7\n",
      "                                                                                                                                                                                                                                                                                                                                                                                                                                                                                                                                                                                                                                                                                                                                                                                                                                                                                                                                                                                                                                                                                                                                                                                                                                                                                                                                                                                                                                                                                                                  ... \n",
      "Baldur's Gate: Dark Alliance is an action RPG with an epic tale of intrigue, explosive spell effects, and highly detailed creatures and environments. You play a one of three customizable characters, who returns to Baldur's Gate and joins the fight against the darkness that threatens its peace. Baldur's Gate: Dark Alliance is the first game to feature the real time application of the Dungeons & Dragons 3rd Edition rules.                                                                                                                                                                                                                                                                                                                                                                                                                                                                                                                                                                                                                                                                                                                                                                                                                                                                                                                                                                                                                                                                              1\n",
      "An epic battle rages between the Forseti and the Muspell as the oceans rise and land disappears. The Forseti compel you to help protect their remaining land by taking charge of a powerful war machine--the Battle Engine. Whether in walking or in flying mode, you have access to an array of destructive weapons to use in expansive environments. You'll command a device so powerful and advanced that your battlefield decisions will shape the direction of each engagement and, ultimately, the entire war.                                                                                                                                                                                                                                                                                                                                                                                                                                                                                                                                                                                                                                                                                                                                                                                                                                                                                                                                                                                                 1\n",
      "The Triclops have invaded the Earth with a simple plan: the eradication of all human life! Become a tank commander and obliterate the alien invaders, or join the elite Triclops Guard and crush any human scum that stand in the way. Regardless of which side you choose, you'll possess enough weaponry to completely destroy your enemies. One team will decide the fate of the globe!                                                                                                                                                                                                                                                                                                                                                                                                                                                                                                                                                                                                                                                                                                                                                                                                                                                                                                                                                                                                                                                                                                                           1\n",
      "Dip into the illegal underground racing experience on the Tokyo highways once again, flash your headlights at other cars to challenge them to races, and compete for money to upgrade your ride. \"Zero,\" the latest game in the TXR series, adds more cars, more rival racers, and a larger street course which replicates 100 miles of actual Tokyo highways.                                                                                                                                                                                                                                                                                                                                                                                                                                                                                                                                                                                                                                                                                                                                                                                                                                                                                                                                                                                                                                                                                                                                                       1\n",
      "(Formerly known as \"The War Z\") It has been 5 years since the outbreak, giving rise to a post-apocalyptic nightmare with 95% of the human race wiped out. To survive, you'll require food, weapons, and other supplies. Some of you will scavenge as you negotiate the terrain, others will be forced to fight for survival as they encounter zombies and other players. Every decision has an effect on whether you live or how quickly you meet your death.                                                                                                                                                                                                                                                                                                                                                                                                                                                                                                                                                                                                                                                                                                                                                                                                                                                                                                                                                                                                                                                        1\n",
      "Name: count, Length: 14648, dtype: int64\n",
      "\n",
      "Уникальные значения для user_review:\n",
      "['9.1' '7.4' '7.7' '8.4' '7.9' '8.0' '8.3' '6.2' '8.7' '7.5' '8.8' '8.5'\n",
      " '8.6' '8.9' '8.2' '9.2' '7.8' '9.0' '9.3' '8.1' '6.8' '7.6' '6.9' '6.6'\n",
      " '7.3' '7.2' '9.4' '5.7' '6.0' '5.8' '7.1' '3.3' '5.0' '5.5' '6.5' '5.9'\n",
      " '6.7' '3.8' '6.4' '7.0' '6.3' '4.9' 'tbd' '5.3' '3.5' '4.7' '6.1' '4.8'\n",
      " '4.1' '5.6' '4.4' '5.4' '4.6' '3.1' '5.2' '4.3' '1.8' '4.5' '5.1' '4.2'\n",
      " '4.0' '9.7' '3.2' '2.9' '2.1' '2.4' '3.4' '3.0' '3.7' '2.2' '2.6' '2.7'\n",
      " '2.5' '2.8' '3.9' '2.0' '9.6' '1.5' '3.6' '1.4' '1.2' '0.9' '1.9' '1.1'\n",
      " '1.7' '0.8' '1.0' '0.6' '2.3' '0.5' '1.6' '0.2' '0.7' '1.3']\n",
      "\n",
      "Подсчеты значений для user_review:\n",
      "user_review\n",
      "tbd    1365\n",
      "7.7     727\n",
      "7.8     701\n",
      "7.5     682\n",
      "7.6     673\n",
      "       ... \n",
      "1.3       2\n",
      "9.4       1\n",
      "0.9       1\n",
      "0.2       1\n",
      "0.7       1\n",
      "Name: count, Length: 94, dtype: int64\n"
     ]
    }
   ],
   "source": [
    "categorical_columns = dataset.select_dtypes(include=['object']).columns\n",
    "\n",
    "for column in categorical_columns:\n",
    "    unique_values = dataset[column].unique()\n",
    "    value_counts = dataset[column].value_counts()\n",
    "    print(f\"\\nУникальные значения для {column}:\\n{unique_values}\")\n",
    "    print(f\"\\nПодсчеты значений для {column}:\\n{value_counts}\")"
   ]
  },
  {
   "cell_type": "code",
   "execution_count": 10,
   "metadata": {
    "collapsed": false,
    "jupyter": {
     "outputs_hidden": false
    }
   },
   "outputs": [
    {
     "ename": "ModuleNotFoundError",
     "evalue": "No module named 'matplotlib'",
     "output_type": "error",
     "traceback": [
      "\u001b[1;31m---------------------------------------------------------------------------\u001b[0m",
      "\u001b[1;31mModuleNotFoundError\u001b[0m                       Traceback (most recent call last)",
      "Cell \u001b[1;32mIn[10], line 1\u001b[0m\n\u001b[1;32m----> 1\u001b[0m \u001b[38;5;28;01mimport\u001b[39;00m \u001b[38;5;21;01mmatplotlib\u001b[39;00m\u001b[38;5;21;01m.\u001b[39;00m\u001b[38;5;21;01mpyplot\u001b[39;00m \u001b[38;5;28;01mas\u001b[39;00m \u001b[38;5;21;01mplt\u001b[39;00m\n",
      "\u001b[1;31mModuleNotFoundError\u001b[0m: No module named 'matplotlib'"
     ]
    }
   ],
   "source": [
    "import matplotlib.pyplot as plt"
   ]
  },
  {
   "cell_type": "code",
   "execution_count": 9,
   "metadata": {
    "collapsed": false,
    "jupyter": {
     "outputs_hidden": false
    }
   },
   "outputs": [
    {
     "ename": "NameError",
     "evalue": "name 'plt' is not defined",
     "output_type": "error",
     "traceback": [
      "\u001b[1;31m---------------------------------------------------------------------------\u001b[0m",
      "\u001b[1;31mNameError\u001b[0m                                 Traceback (most recent call last)",
      "Cell \u001b[1;32mIn[9], line 4\u001b[0m\n\u001b[0;32m      1\u001b[0m numeric_columns \u001b[38;5;241m=\u001b[39m dataset\u001b[38;5;241m.\u001b[39mselect_dtypes(include\u001b[38;5;241m=\u001b[39m[\u001b[38;5;124m'\u001b[39m\u001b[38;5;124mint\u001b[39m\u001b[38;5;124m'\u001b[39m, \u001b[38;5;124m'\u001b[39m\u001b[38;5;124mfloat\u001b[39m\u001b[38;5;124m'\u001b[39m])\u001b[38;5;241m.\u001b[39mcolumns\n\u001b[0;32m      3\u001b[0m \u001b[38;5;28;01mfor\u001b[39;00m column \u001b[38;5;129;01min\u001b[39;00m numeric_columns:\n\u001b[1;32m----> 4\u001b[0m     \u001b[43mplt\u001b[49m\u001b[38;5;241m.\u001b[39mfigure(figsize\u001b[38;5;241m=\u001b[39m(\u001b[38;5;241m8\u001b[39m, \u001b[38;5;241m5\u001b[39m))\n\u001b[0;32m      5\u001b[0m     plt\u001b[38;5;241m.\u001b[39mhist(dataset[column], bins\u001b[38;5;241m=\u001b[39m\u001b[38;5;241m20\u001b[39m, edgecolor\u001b[38;5;241m=\u001b[39m\u001b[38;5;124m'\u001b[39m\u001b[38;5;124mblack\u001b[39m\u001b[38;5;124m'\u001b[39m)\n\u001b[0;32m      6\u001b[0m     plt\u001b[38;5;241m.\u001b[39mtitle(\u001b[38;5;124mf\u001b[39m\u001b[38;5;124m'\u001b[39m\u001b[38;5;124mHistogram for \u001b[39m\u001b[38;5;132;01m{\u001b[39;00mcolumn\u001b[38;5;132;01m}\u001b[39;00m\u001b[38;5;124m'\u001b[39m)\n",
      "\u001b[1;31mNameError\u001b[0m: name 'plt' is not defined"
     ]
    }
   ],
   "source": [
    "numeric_columns = dataset.select_dtypes(include=['int', 'float']).columns\n",
    "\n",
    "for column in numeric_columns:\n",
    "    plt.figure(figsize=(8, 5))\n",
    "    plt.hist(dataset[column], bins=20, edgecolor='black')\n",
    "    plt.title(f'Histogram for {column}')\n",
    "    plt.xlabel(column)\n",
    "    plt.ylabel('Frequency')\n",
    "    plt.show()"
   ]
  },
  {
   "cell_type": "code",
   "execution_count": 34,
   "metadata": {
    "collapsed": false,
    "jupyter": {
     "outputs_hidden": false
    }
   },
   "outputs": [
    {
     "data": {
      "text/html": [
       "<div>\n",
       "<style scoped>\n",
       "    .dataframe tbody tr th:only-of-type {\n",
       "        vertical-align: middle;\n",
       "    }\n",
       "\n",
       "    .dataframe tbody tr th {\n",
       "        vertical-align: top;\n",
       "    }\n",
       "\n",
       "    .dataframe thead th {\n",
       "        text-align: right;\n",
       "    }\n",
       "</style>\n",
       "<table border=\"1\" class=\"dataframe\">\n",
       "  <thead>\n",
       "    <tr style=\"text-align: right;\">\n",
       "      <th></th>\n",
       "      <th>index</th>\n",
       "      <th>Publishing Year</th>\n",
       "      <th>Book Name</th>\n",
       "      <th>Author</th>\n",
       "      <th>language_code</th>\n",
       "      <th>Author_Rating</th>\n",
       "      <th>Book_average_rating</th>\n",
       "      <th>Book_ratings_count</th>\n",
       "      <th>genre</th>\n",
       "      <th>gross sales</th>\n",
       "      <th>publisher revenue</th>\n",
       "      <th>sale price</th>\n",
       "      <th>sales rank</th>\n",
       "      <th>Publisher</th>\n",
       "      <th>units sold</th>\n",
       "    </tr>\n",
       "  </thead>\n",
       "  <tbody>\n",
       "    <tr>\n",
       "      <th>0</th>\n",
       "      <td>0</td>\n",
       "      <td>1975.0</td>\n",
       "      <td>Beowulf</td>\n",
       "      <td>Unknown, Seamus Heaney</td>\n",
       "      <td>en-US</td>\n",
       "      <td>Novice</td>\n",
       "      <td>3.42</td>\n",
       "      <td>155903</td>\n",
       "      <td>genre fiction</td>\n",
       "      <td>34160.0</td>\n",
       "      <td>20496.0</td>\n",
       "      <td>4.88</td>\n",
       "      <td>1</td>\n",
       "      <td>HarperCollins Publishers</td>\n",
       "      <td>7000</td>\n",
       "    </tr>\n",
       "    <tr>\n",
       "      <th>1</th>\n",
       "      <td>1</td>\n",
       "      <td>1987.0</td>\n",
       "      <td>Batman: Year One</td>\n",
       "      <td>Frank Miller, David Mazzucchelli, Richmond Lew...</td>\n",
       "      <td>eng</td>\n",
       "      <td>Intermediate</td>\n",
       "      <td>4.23</td>\n",
       "      <td>145267</td>\n",
       "      <td>genre fiction</td>\n",
       "      <td>12437.5</td>\n",
       "      <td>7462.5</td>\n",
       "      <td>1.99</td>\n",
       "      <td>2</td>\n",
       "      <td>HarperCollins Publishers</td>\n",
       "      <td>6250</td>\n",
       "    </tr>\n",
       "    <tr>\n",
       "      <th>2</th>\n",
       "      <td>2</td>\n",
       "      <td>2015.0</td>\n",
       "      <td>Go Set a Watchman</td>\n",
       "      <td>Harper Lee</td>\n",
       "      <td>eng</td>\n",
       "      <td>Novice</td>\n",
       "      <td>3.31</td>\n",
       "      <td>138669</td>\n",
       "      <td>genre fiction</td>\n",
       "      <td>47795.0</td>\n",
       "      <td>28677.0</td>\n",
       "      <td>8.69</td>\n",
       "      <td>3</td>\n",
       "      <td>Amazon Digital Services,  Inc.</td>\n",
       "      <td>5500</td>\n",
       "    </tr>\n",
       "    <tr>\n",
       "      <th>3</th>\n",
       "      <td>3</td>\n",
       "      <td>2008.0</td>\n",
       "      <td>When You Are Engulfed in Flames</td>\n",
       "      <td>David Sedaris</td>\n",
       "      <td>en-US</td>\n",
       "      <td>Intermediate</td>\n",
       "      <td>4.04</td>\n",
       "      <td>150898</td>\n",
       "      <td>fiction</td>\n",
       "      <td>41250.0</td>\n",
       "      <td>24750.0</td>\n",
       "      <td>7.50</td>\n",
       "      <td>3</td>\n",
       "      <td>Hachette Book Group</td>\n",
       "      <td>5500</td>\n",
       "    </tr>\n",
       "    <tr>\n",
       "      <th>4</th>\n",
       "      <td>4</td>\n",
       "      <td>2011.0</td>\n",
       "      <td>Daughter of Smoke &amp; Bone</td>\n",
       "      <td>Laini Taylor</td>\n",
       "      <td>eng</td>\n",
       "      <td>Intermediate</td>\n",
       "      <td>4.04</td>\n",
       "      <td>198283</td>\n",
       "      <td>genre fiction</td>\n",
       "      <td>37952.5</td>\n",
       "      <td>22771.5</td>\n",
       "      <td>7.99</td>\n",
       "      <td>4</td>\n",
       "      <td>Penguin Group (USA) LLC</td>\n",
       "      <td>4750</td>\n",
       "    </tr>\n",
       "  </tbody>\n",
       "</table>\n",
       "</div>"
      ],
      "text/plain": [
       "   index  Publishing Year                        Book Name  \\\n",
       "0      0           1975.0                          Beowulf   \n",
       "1      1           1987.0                 Batman: Year One   \n",
       "2      2           2015.0                Go Set a Watchman   \n",
       "3      3           2008.0  When You Are Engulfed in Flames   \n",
       "4      4           2011.0         Daughter of Smoke & Bone   \n",
       "\n",
       "                                              Author language_code  \\\n",
       "0                             Unknown, Seamus Heaney         en-US   \n",
       "1  Frank Miller, David Mazzucchelli, Richmond Lew...           eng   \n",
       "2                                         Harper Lee           eng   \n",
       "3                                      David Sedaris         en-US   \n",
       "4                                       Laini Taylor           eng   \n",
       "\n",
       "  Author_Rating  Book_average_rating  Book_ratings_count          genre  \\\n",
       "0        Novice                 3.42              155903  genre fiction   \n",
       "1  Intermediate                 4.23              145267  genre fiction   \n",
       "2        Novice                 3.31              138669  genre fiction   \n",
       "3  Intermediate                 4.04              150898        fiction   \n",
       "4  Intermediate                 4.04              198283  genre fiction   \n",
       "\n",
       "   gross sales  publisher revenue  sale price  sales rank  \\\n",
       "0      34160.0            20496.0        4.88           1   \n",
       "1      12437.5             7462.5        1.99           2   \n",
       "2      47795.0            28677.0        8.69           3   \n",
       "3      41250.0            24750.0        7.50           3   \n",
       "4      37952.5            22771.5        7.99           4   \n",
       "\n",
       "                       Publisher   units sold  \n",
       "0        HarperCollins Publishers        7000  \n",
       "1        HarperCollins Publishers        6250  \n",
       "2  Amazon Digital Services,  Inc.        5500  \n",
       "3             Hachette Book Group        5500  \n",
       "4         Penguin Group (USA) LLC        4750  "
      ]
     },
     "execution_count": 34,
     "metadata": {},
     "output_type": "execute_result"
    }
   ],
   "source": [
    "dataset_head = dataset.head()\n",
    "dataset_head"
   ]
  },
  {
   "cell_type": "markdown",
   "metadata": {
    "collapsed": false,
    "jupyter": {
     "outputs_hidden": false
    }
   },
   "source": [
    "Вывод: Просмотр первых строк дает представление о структуре и содержании датасета."
   ]
  },
  {
   "cell_type": "markdown",
   "metadata": {
    "collapsed": false,
    "jupyter": {
     "outputs_hidden": false
    }
   },
   "source": []
  },
  {
   "cell_type": "code",
   "execution_count": 36,
   "metadata": {
    "collapsed": false,
    "jupyter": {
     "outputs_hidden": false
    }
   },
   "outputs": [
    {
     "data": {
      "text/html": [
       "<div>\n",
       "<style scoped>\n",
       "    .dataframe tbody tr th:only-of-type {\n",
       "        vertical-align: middle;\n",
       "    }\n",
       "\n",
       "    .dataframe tbody tr th {\n",
       "        vertical-align: top;\n",
       "    }\n",
       "\n",
       "    .dataframe thead th {\n",
       "        text-align: right;\n",
       "    }\n",
       "</style>\n",
       "<table border=\"1\" class=\"dataframe\">\n",
       "  <thead>\n",
       "    <tr style=\"text-align: right;\">\n",
       "      <th></th>\n",
       "      <th>index</th>\n",
       "      <th>Publishing Year</th>\n",
       "      <th>Book_average_rating</th>\n",
       "      <th>Book_ratings_count</th>\n",
       "      <th>gross sales</th>\n",
       "      <th>publisher revenue</th>\n",
       "      <th>sale price</th>\n",
       "      <th>sales rank</th>\n",
       "      <th>units sold</th>\n",
       "    </tr>\n",
       "  </thead>\n",
       "  <tbody>\n",
       "    <tr>\n",
       "      <th>count</th>\n",
       "      <td>1070.000000</td>\n",
       "      <td>1069.000000</td>\n",
       "      <td>1070.000000</td>\n",
       "      <td>1070.000000</td>\n",
       "      <td>1070.000000</td>\n",
       "      <td>1070.000000</td>\n",
       "      <td>1070.000000</td>\n",
       "      <td>1070.000000</td>\n",
       "      <td>1070.000000</td>\n",
       "    </tr>\n",
       "    <tr>\n",
       "      <th>mean</th>\n",
       "      <td>534.500000</td>\n",
       "      <td>1971.377923</td>\n",
       "      <td>4.007000</td>\n",
       "      <td>94909.913084</td>\n",
       "      <td>1856.622944</td>\n",
       "      <td>843.281030</td>\n",
       "      <td>4.869561</td>\n",
       "      <td>611.652336</td>\n",
       "      <td>9676.980374</td>\n",
       "    </tr>\n",
       "    <tr>\n",
       "      <th>std</th>\n",
       "      <td>309.026698</td>\n",
       "      <td>185.080257</td>\n",
       "      <td>0.247244</td>\n",
       "      <td>31513.242518</td>\n",
       "      <td>3936.924240</td>\n",
       "      <td>2257.596743</td>\n",
       "      <td>3.559919</td>\n",
       "      <td>369.849830</td>\n",
       "      <td>15370.571306</td>\n",
       "    </tr>\n",
       "    <tr>\n",
       "      <th>min</th>\n",
       "      <td>0.000000</td>\n",
       "      <td>-560.000000</td>\n",
       "      <td>2.970000</td>\n",
       "      <td>27308.000000</td>\n",
       "      <td>104.940000</td>\n",
       "      <td>0.000000</td>\n",
       "      <td>0.990000</td>\n",
       "      <td>1.000000</td>\n",
       "      <td>106.000000</td>\n",
       "    </tr>\n",
       "    <tr>\n",
       "      <th>25%</th>\n",
       "      <td>267.250000</td>\n",
       "      <td>1985.000000</td>\n",
       "      <td>3.850000</td>\n",
       "      <td>70398.000000</td>\n",
       "      <td>372.465000</td>\n",
       "      <td>0.000000</td>\n",
       "      <td>1.990000</td>\n",
       "      <td>287.500000</td>\n",
       "      <td>551.250000</td>\n",
       "    </tr>\n",
       "    <tr>\n",
       "      <th>50%</th>\n",
       "      <td>534.500000</td>\n",
       "      <td>2003.000000</td>\n",
       "      <td>4.015000</td>\n",
       "      <td>89309.000000</td>\n",
       "      <td>809.745000</td>\n",
       "      <td>273.078000</td>\n",
       "      <td>3.990000</td>\n",
       "      <td>595.500000</td>\n",
       "      <td>3924.000000</td>\n",
       "    </tr>\n",
       "    <tr>\n",
       "      <th>75%</th>\n",
       "      <td>801.750000</td>\n",
       "      <td>2010.000000</td>\n",
       "      <td>4.170000</td>\n",
       "      <td>113906.500000</td>\n",
       "      <td>1487.957500</td>\n",
       "      <td>721.180500</td>\n",
       "      <td>6.990000</td>\n",
       "      <td>932.500000</td>\n",
       "      <td>5312.250000</td>\n",
       "    </tr>\n",
       "    <tr>\n",
       "      <th>max</th>\n",
       "      <td>1069.000000</td>\n",
       "      <td>2016.000000</td>\n",
       "      <td>4.770000</td>\n",
       "      <td>206792.000000</td>\n",
       "      <td>47795.000000</td>\n",
       "      <td>28677.000000</td>\n",
       "      <td>33.860000</td>\n",
       "      <td>1273.000000</td>\n",
       "      <td>61560.000000</td>\n",
       "    </tr>\n",
       "  </tbody>\n",
       "</table>\n",
       "</div>"
      ],
      "text/plain": [
       "             index  Publishing Year  Book_average_rating  Book_ratings_count  \\\n",
       "count  1070.000000      1069.000000          1070.000000         1070.000000   \n",
       "mean    534.500000      1971.377923             4.007000        94909.913084   \n",
       "std     309.026698       185.080257             0.247244        31513.242518   \n",
       "min       0.000000      -560.000000             2.970000        27308.000000   \n",
       "25%     267.250000      1985.000000             3.850000        70398.000000   \n",
       "50%     534.500000      2003.000000             4.015000        89309.000000   \n",
       "75%     801.750000      2010.000000             4.170000       113906.500000   \n",
       "max    1069.000000      2016.000000             4.770000       206792.000000   \n",
       "\n",
       "        gross sales  publisher revenue   sale price   sales rank    units sold  \n",
       "count   1070.000000        1070.000000  1070.000000  1070.000000   1070.000000  \n",
       "mean    1856.622944         843.281030     4.869561   611.652336   9676.980374  \n",
       "std     3936.924240        2257.596743     3.559919   369.849830  15370.571306  \n",
       "min      104.940000           0.000000     0.990000     1.000000    106.000000  \n",
       "25%      372.465000           0.000000     1.990000   287.500000    551.250000  \n",
       "50%      809.745000         273.078000     3.990000   595.500000   3924.000000  \n",
       "75%     1487.957500         721.180500     6.990000   932.500000   5312.250000  \n",
       "max    47795.000000       28677.000000    33.860000  1273.000000  61560.000000  "
      ]
     },
     "execution_count": 36,
     "metadata": {},
     "output_type": "execute_result"
    }
   ],
   "source": [
    "numeric_stats = dataset.describe()\n",
    "numeric_stats"
   ]
  },
  {
   "cell_type": "markdown",
   "metadata": {
    "collapsed": false,
    "jupyter": {
     "outputs_hidden": false
    }
   },
   "source": [
    "Вывод: Статистика числовых переменных помогает понять распределение данных и их характеристики."
   ]
  },
  {
   "cell_type": "code",
   "execution_count": 38,
   "metadata": {
    "collapsed": false,
    "jupyter": {
     "outputs_hidden": false
    }
   },
   "outputs": [
    {
     "data": {
      "text/plain": [
       "array(['Beowulf', 'Batman: Year One', 'Go Set a Watchman', ...,\n",
       "       'The Maltese Falcon', 'Night Road', 'Tripwire'], dtype=object)"
      ]
     },
     "execution_count": 38,
     "metadata": {},
     "output_type": "execute_result"
    }
   ],
   "source": [
    "unique_values_column = dataset['Book Name'].unique()\n",
    "unique_values_column"
   ]
  },
  {
   "cell_type": "markdown",
   "metadata": {
    "collapsed": false,
    "jupyter": {
     "outputs_hidden": false
    }
   },
   "source": [
    "Вывод: Просмотр уникальных значений в категориальном столбце помогает понять разнообразие данных в этом столбце."
   ]
  },
  {
   "cell_type": "code",
   "execution_count": 41,
   "metadata": {
    "collapsed": false,
    "jupyter": {
     "outputs_hidden": false
    }
   },
   "outputs": [
    {
     "data": {
      "text/html": [
       "<div>\n",
       "<style scoped>\n",
       "    .dataframe tbody tr th:only-of-type {\n",
       "        vertical-align: middle;\n",
       "    }\n",
       "\n",
       "    .dataframe tbody tr th {\n",
       "        vertical-align: top;\n",
       "    }\n",
       "\n",
       "    .dataframe thead th {\n",
       "        text-align: right;\n",
       "    }\n",
       "</style>\n",
       "<table border=\"1\" class=\"dataframe\">\n",
       "  <thead>\n",
       "    <tr style=\"text-align: right;\">\n",
       "      <th></th>\n",
       "      <th>index</th>\n",
       "      <th>Publishing Year</th>\n",
       "      <th>Book Name</th>\n",
       "      <th>Author</th>\n",
       "      <th>language_code</th>\n",
       "      <th>Author_Rating</th>\n",
       "      <th>Book_average_rating</th>\n",
       "      <th>Book_ratings_count</th>\n",
       "      <th>genre</th>\n",
       "      <th>gross sales</th>\n",
       "      <th>publisher revenue</th>\n",
       "      <th>sale price</th>\n",
       "      <th>sales rank</th>\n",
       "      <th>Publisher</th>\n",
       "      <th>units sold</th>\n",
       "    </tr>\n",
       "  </thead>\n",
       "  <tbody>\n",
       "    <tr>\n",
       "      <th>0</th>\n",
       "      <td>0</td>\n",
       "      <td>1975.0</td>\n",
       "      <td>Beowulf</td>\n",
       "      <td>Unknown, Seamus Heaney</td>\n",
       "      <td>en-US</td>\n",
       "      <td>Novice</td>\n",
       "      <td>3.42</td>\n",
       "      <td>155903</td>\n",
       "      <td>genre fiction</td>\n",
       "      <td>34160.00</td>\n",
       "      <td>20496.000</td>\n",
       "      <td>4.88</td>\n",
       "      <td>1</td>\n",
       "      <td>HarperCollins Publishers</td>\n",
       "      <td>7000</td>\n",
       "    </tr>\n",
       "    <tr>\n",
       "      <th>1</th>\n",
       "      <td>1</td>\n",
       "      <td>1987.0</td>\n",
       "      <td>Batman: Year One</td>\n",
       "      <td>Frank Miller, David Mazzucchelli, Richmond Lew...</td>\n",
       "      <td>eng</td>\n",
       "      <td>Intermediate</td>\n",
       "      <td>4.23</td>\n",
       "      <td>145267</td>\n",
       "      <td>genre fiction</td>\n",
       "      <td>12437.50</td>\n",
       "      <td>7462.500</td>\n",
       "      <td>1.99</td>\n",
       "      <td>2</td>\n",
       "      <td>HarperCollins Publishers</td>\n",
       "      <td>6250</td>\n",
       "    </tr>\n",
       "    <tr>\n",
       "      <th>2</th>\n",
       "      <td>2</td>\n",
       "      <td>2015.0</td>\n",
       "      <td>Go Set a Watchman</td>\n",
       "      <td>Harper Lee</td>\n",
       "      <td>eng</td>\n",
       "      <td>Novice</td>\n",
       "      <td>3.31</td>\n",
       "      <td>138669</td>\n",
       "      <td>genre fiction</td>\n",
       "      <td>47795.00</td>\n",
       "      <td>28677.000</td>\n",
       "      <td>8.69</td>\n",
       "      <td>3</td>\n",
       "      <td>Amazon Digital Services,  Inc.</td>\n",
       "      <td>5500</td>\n",
       "    </tr>\n",
       "    <tr>\n",
       "      <th>3</th>\n",
       "      <td>3</td>\n",
       "      <td>2008.0</td>\n",
       "      <td>When You Are Engulfed in Flames</td>\n",
       "      <td>David Sedaris</td>\n",
       "      <td>en-US</td>\n",
       "      <td>Intermediate</td>\n",
       "      <td>4.04</td>\n",
       "      <td>150898</td>\n",
       "      <td>fiction</td>\n",
       "      <td>41250.00</td>\n",
       "      <td>24750.000</td>\n",
       "      <td>7.50</td>\n",
       "      <td>3</td>\n",
       "      <td>Hachette Book Group</td>\n",
       "      <td>5500</td>\n",
       "    </tr>\n",
       "    <tr>\n",
       "      <th>4</th>\n",
       "      <td>4</td>\n",
       "      <td>2011.0</td>\n",
       "      <td>Daughter of Smoke &amp; Bone</td>\n",
       "      <td>Laini Taylor</td>\n",
       "      <td>eng</td>\n",
       "      <td>Intermediate</td>\n",
       "      <td>4.04</td>\n",
       "      <td>198283</td>\n",
       "      <td>genre fiction</td>\n",
       "      <td>37952.50</td>\n",
       "      <td>22771.500</td>\n",
       "      <td>7.99</td>\n",
       "      <td>4</td>\n",
       "      <td>Penguin Group (USA) LLC</td>\n",
       "      <td>4750</td>\n",
       "    </tr>\n",
       "    <tr>\n",
       "      <th>...</th>\n",
       "      <td>...</td>\n",
       "      <td>...</td>\n",
       "      <td>...</td>\n",
       "      <td>...</td>\n",
       "      <td>...</td>\n",
       "      <td>...</td>\n",
       "      <td>...</td>\n",
       "      <td>...</td>\n",
       "      <td>...</td>\n",
       "      <td>...</td>\n",
       "      <td>...</td>\n",
       "      <td>...</td>\n",
       "      <td>...</td>\n",
       "      <td>...</td>\n",
       "      <td>...</td>\n",
       "    </tr>\n",
       "    <tr>\n",
       "      <th>1065</th>\n",
       "      <td>1065</td>\n",
       "      <td>2014.0</td>\n",
       "      <td>Gray Mountain</td>\n",
       "      <td>John Grisham</td>\n",
       "      <td>eng</td>\n",
       "      <td>Intermediate</td>\n",
       "      <td>3.52</td>\n",
       "      <td>37379</td>\n",
       "      <td>nonfiction</td>\n",
       "      <td>104.94</td>\n",
       "      <td>62.964</td>\n",
       "      <td>0.99</td>\n",
       "      <td>1268</td>\n",
       "      <td>Amazon Digital Services,  Inc.</td>\n",
       "      <td>106</td>\n",
       "    </tr>\n",
       "    <tr>\n",
       "      <th>1066</th>\n",
       "      <td>1066</td>\n",
       "      <td>1989.0</td>\n",
       "      <td>The Power of One</td>\n",
       "      <td>Bryce Courtenay</td>\n",
       "      <td>eng</td>\n",
       "      <td>Excellent</td>\n",
       "      <td>4.34</td>\n",
       "      <td>57312</td>\n",
       "      <td>genre fiction</td>\n",
       "      <td>846.94</td>\n",
       "      <td>508.164</td>\n",
       "      <td>7.99</td>\n",
       "      <td>1270</td>\n",
       "      <td>Random House LLC</td>\n",
       "      <td>106</td>\n",
       "    </tr>\n",
       "    <tr>\n",
       "      <th>1067</th>\n",
       "      <td>1067</td>\n",
       "      <td>1930.0</td>\n",
       "      <td>The Maltese Falcon</td>\n",
       "      <td>Dashiell Hammett</td>\n",
       "      <td>eng</td>\n",
       "      <td>Intermediate</td>\n",
       "      <td>3.92</td>\n",
       "      <td>58742</td>\n",
       "      <td>genre fiction</td>\n",
       "      <td>846.94</td>\n",
       "      <td>508.164</td>\n",
       "      <td>7.99</td>\n",
       "      <td>1271</td>\n",
       "      <td>Hachette Book Group</td>\n",
       "      <td>106</td>\n",
       "    </tr>\n",
       "    <tr>\n",
       "      <th>1068</th>\n",
       "      <td>1068</td>\n",
       "      <td>2011.0</td>\n",
       "      <td>Night Road</td>\n",
       "      <td>Kristin Hannah</td>\n",
       "      <td>en-US</td>\n",
       "      <td>Excellent</td>\n",
       "      <td>4.17</td>\n",
       "      <td>58028</td>\n",
       "      <td>genre fiction</td>\n",
       "      <td>104.94</td>\n",
       "      <td>62.964</td>\n",
       "      <td>0.99</td>\n",
       "      <td>1272</td>\n",
       "      <td>Amazon Digital Services,  Inc.</td>\n",
       "      <td>106</td>\n",
       "    </tr>\n",
       "    <tr>\n",
       "      <th>1069</th>\n",
       "      <td>1069</td>\n",
       "      <td>1999.0</td>\n",
       "      <td>Tripwire</td>\n",
       "      <td>Lee Child</td>\n",
       "      <td>eng</td>\n",
       "      <td>Excellent</td>\n",
       "      <td>4.07</td>\n",
       "      <td>55251</td>\n",
       "      <td>genre fiction</td>\n",
       "      <td>316.94</td>\n",
       "      <td>0.000</td>\n",
       "      <td>2.99</td>\n",
       "      <td>1273</td>\n",
       "      <td>Amazon Digital Services,  Inc.</td>\n",
       "      <td>106</td>\n",
       "    </tr>\n",
       "  </tbody>\n",
       "</table>\n",
       "<p>1070 rows × 15 columns</p>\n",
       "</div>"
      ],
      "text/plain": [
       "      index  Publishing Year                        Book Name  \\\n",
       "0         0           1975.0                          Beowulf   \n",
       "1         1           1987.0                 Batman: Year One   \n",
       "2         2           2015.0                Go Set a Watchman   \n",
       "3         3           2008.0  When You Are Engulfed in Flames   \n",
       "4         4           2011.0         Daughter of Smoke & Bone   \n",
       "...     ...              ...                              ...   \n",
       "1065   1065           2014.0                    Gray Mountain   \n",
       "1066   1066           1989.0                 The Power of One   \n",
       "1067   1067           1930.0               The Maltese Falcon   \n",
       "1068   1068           2011.0                       Night Road   \n",
       "1069   1069           1999.0                         Tripwire   \n",
       "\n",
       "                                                 Author language_code  \\\n",
       "0                                Unknown, Seamus Heaney         en-US   \n",
       "1     Frank Miller, David Mazzucchelli, Richmond Lew...           eng   \n",
       "2                                            Harper Lee           eng   \n",
       "3                                         David Sedaris         en-US   \n",
       "4                                          Laini Taylor           eng   \n",
       "...                                                 ...           ...   \n",
       "1065                                       John Grisham           eng   \n",
       "1066                                    Bryce Courtenay           eng   \n",
       "1067                                   Dashiell Hammett           eng   \n",
       "1068                                     Kristin Hannah         en-US   \n",
       "1069                                          Lee Child           eng   \n",
       "\n",
       "     Author_Rating  Book_average_rating  Book_ratings_count          genre  \\\n",
       "0           Novice                 3.42              155903  genre fiction   \n",
       "1     Intermediate                 4.23              145267  genre fiction   \n",
       "2           Novice                 3.31              138669  genre fiction   \n",
       "3     Intermediate                 4.04              150898        fiction   \n",
       "4     Intermediate                 4.04              198283  genre fiction   \n",
       "...            ...                  ...                 ...            ...   \n",
       "1065  Intermediate                 3.52               37379     nonfiction   \n",
       "1066     Excellent                 4.34               57312  genre fiction   \n",
       "1067  Intermediate                 3.92               58742  genre fiction   \n",
       "1068     Excellent                 4.17               58028  genre fiction   \n",
       "1069     Excellent                 4.07               55251  genre fiction   \n",
       "\n",
       "      gross sales  publisher revenue  sale price  sales rank  \\\n",
       "0        34160.00          20496.000        4.88           1   \n",
       "1        12437.50           7462.500        1.99           2   \n",
       "2        47795.00          28677.000        8.69           3   \n",
       "3        41250.00          24750.000        7.50           3   \n",
       "4        37952.50          22771.500        7.99           4   \n",
       "...           ...                ...         ...         ...   \n",
       "1065       104.94             62.964        0.99        1268   \n",
       "1066       846.94            508.164        7.99        1270   \n",
       "1067       846.94            508.164        7.99        1271   \n",
       "1068       104.94             62.964        0.99        1272   \n",
       "1069       316.94              0.000        2.99        1273   \n",
       "\n",
       "                          Publisher   units sold  \n",
       "0           HarperCollins Publishers        7000  \n",
       "1           HarperCollins Publishers        6250  \n",
       "2     Amazon Digital Services,  Inc.        5500  \n",
       "3                Hachette Book Group        5500  \n",
       "4            Penguin Group (USA) LLC        4750  \n",
       "...                              ...         ...  \n",
       "1065  Amazon Digital Services,  Inc.         106  \n",
       "1066                Random House LLC         106  \n",
       "1067             Hachette Book Group         106  \n",
       "1068  Amazon Digital Services,  Inc.         106  \n",
       "1069  Amazon Digital Services,  Inc.         106  \n",
       "\n",
       "[1070 rows x 15 columns]"
      ]
     },
     "execution_count": 41,
     "metadata": {},
     "output_type": "execute_result"
    }
   ],
   "source": [
    "filtered_data = dataset[dataset['Book_ratings_count'] > 100]\n",
    "filtered_data"
   ]
  },
  {
   "cell_type": "markdown",
   "metadata": {
    "collapsed": false,
    "jupyter": {
     "outputs_hidden": false
    }
   },
   "source": []
  },
  {
   "cell_type": "markdown",
   "metadata": {
    "collapsed": false,
    "jupyter": {
     "outputs_hidden": false
    }
   },
   "source": [
    "Вывод: Фильтрация данных по условию полезна для выделения интересующих нас подмножеств данных."
   ]
  },
  {
   "cell_type": "code",
   "execution_count": 42,
   "metadata": {
    "collapsed": false,
    "jupyter": {
     "outputs_hidden": false
    }
   },
   "outputs": [
    {
     "data": {
      "text/html": [
       "<div>\n",
       "<style scoped>\n",
       "    .dataframe tbody tr th:only-of-type {\n",
       "        vertical-align: middle;\n",
       "    }\n",
       "\n",
       "    .dataframe tbody tr th {\n",
       "        vertical-align: top;\n",
       "    }\n",
       "\n",
       "    .dataframe thead th {\n",
       "        text-align: right;\n",
       "    }\n",
       "</style>\n",
       "<table border=\"1\" class=\"dataframe\">\n",
       "  <thead>\n",
       "    <tr style=\"text-align: right;\">\n",
       "      <th></th>\n",
       "      <th>Author</th>\n",
       "      <th>counts</th>\n",
       "    </tr>\n",
       "  </thead>\n",
       "  <tbody>\n",
       "    <tr>\n",
       "      <th>0</th>\n",
       "      <td>A.A. Milne, Ernest H. Shepard</td>\n",
       "      <td>1</td>\n",
       "    </tr>\n",
       "    <tr>\n",
       "      <th>1</th>\n",
       "      <td>A.S.A. Harrison</td>\n",
       "      <td>1</td>\n",
       "    </tr>\n",
       "    <tr>\n",
       "      <th>2</th>\n",
       "      <td>Abbi Glines</td>\n",
       "      <td>2</td>\n",
       "    </tr>\n",
       "    <tr>\n",
       "      <th>3</th>\n",
       "      <td>Adam Johnson</td>\n",
       "      <td>1</td>\n",
       "    </tr>\n",
       "    <tr>\n",
       "      <th>4</th>\n",
       "      <td>Adam Mansbach, Ricardo CortÃ©s</td>\n",
       "      <td>1</td>\n",
       "    </tr>\n",
       "    <tr>\n",
       "      <th>...</th>\n",
       "      <td>...</td>\n",
       "      <td>...</td>\n",
       "    </tr>\n",
       "    <tr>\n",
       "      <th>730</th>\n",
       "      <td>William Styron</td>\n",
       "      <td>1</td>\n",
       "    </tr>\n",
       "    <tr>\n",
       "      <th>731</th>\n",
       "      <td>Yana Toboso, Tomo Kimura</td>\n",
       "      <td>1</td>\n",
       "    </tr>\n",
       "    <tr>\n",
       "      <th>732</th>\n",
       "      <td>Zadie Smith</td>\n",
       "      <td>1</td>\n",
       "    </tr>\n",
       "    <tr>\n",
       "      <th>733</th>\n",
       "      <td>Ø£Ø­Ù„Ø§Ù… Ù…Ø³ØªØºØ§Ù†Ù…ÙŠ, Ahlam Mosteghanemi</td>\n",
       "      <td>1</td>\n",
       "    </tr>\n",
       "    <tr>\n",
       "      <th>734</th>\n",
       "      <td>Ø£Ø­Ù…Ø¯ Ù…Ø±Ø§Ø¯</td>\n",
       "      <td>1</td>\n",
       "    </tr>\n",
       "  </tbody>\n",
       "</table>\n",
       "<p>735 rows × 2 columns</p>\n",
       "</div>"
      ],
      "text/plain": [
       "                                              Author  counts\n",
       "0                      A.A. Milne, Ernest H. Shepard       1\n",
       "1                                    A.S.A. Harrison       1\n",
       "2                                        Abbi Glines       2\n",
       "3                                       Adam Johnson       1\n",
       "4                     Adam Mansbach, Ricardo CortÃ©s       1\n",
       "..                                               ...     ...\n",
       "730                                   William Styron       1\n",
       "731                         Yana Toboso, Tomo Kimura       1\n",
       "732                                      Zadie Smith       1\n",
       "733  Ø£Ø­Ù„Ø§Ù… Ù…Ø³ØªØºØ§Ù†Ù…ÙŠ, Ahlam Mosteghanemi       1\n",
       "734                                Ø£Ø­Ù…Ø¯ Ù…Ø±Ø§Ø¯       1\n",
       "\n",
       "[735 rows x 2 columns]"
      ]
     },
     "execution_count": 42,
     "metadata": {},
     "output_type": "execute_result"
    }
   ],
   "source": [
    "grouped_counts = dataset.groupby('Author').size().reset_index(name='counts')\n",
    "grouped_counts"
   ]
  },
  {
   "cell_type": "markdown",
   "metadata": {
    "collapsed": false,
    "jupyter": {
     "outputs_hidden": false
    }
   },
   "source": [
    "Вывод: Группировка данных позволяет подсчитать количество записей по категориальному столбцу."
   ]
  },
  {
   "cell_type": "code",
   "execution_count": 45,
   "metadata": {
    "collapsed": false,
    "jupyter": {
     "outputs_hidden": false
    }
   },
   "outputs": [
    {
     "data": {
      "text/plain": [
       "Author_Rating\n",
       "Excellent        82905.889503\n",
       "Famous           97414.301887\n",
       "Intermediate    101946.995200\n",
       "Novice           88728.166667\n",
       "Name: Book_ratings_count, dtype: float64"
      ]
     },
     "execution_count": 45,
     "metadata": {},
     "output_type": "execute_result"
    }
   ],
   "source": [
    "mean_by_category = dataset.groupby('Author_Rating')['Book_ratings_count'].mean()\n",
    "mean_by_category"
   ]
  },
  {
   "cell_type": "markdown",
   "metadata": {
    "collapsed": false,
    "jupyter": {
     "outputs_hidden": false
    }
   },
   "source": [
    "Вывод: Этот запрос помогает выявить средние значения числовой переменной для каждой категории."
   ]
  },
  {
   "cell_type": "code",
   "execution_count": 46,
   "metadata": {
    "collapsed": false,
    "jupyter": {
     "outputs_hidden": false
    }
   },
   "outputs": [
    {
     "data": {
      "text/plain": [
       "Author\n",
       "A.A. Milne, Ernest H. Shepard                      1199\n",
       "A.S.A. Harrison                                     897\n",
       "Abbi Glines                                         884\n",
       "Adam Johnson                                       1097\n",
       "Adam Mansbach, Ricardo CortÃ©s                      930\n",
       "                                                   ... \n",
       "William Styron                                     1059\n",
       "Yana Toboso, Tomo Kimura                            960\n",
       "Zadie Smith                                         524\n",
       "Ø£Ø­Ù„Ø§Ù… Ù…Ø³ØªØºØ§Ù†Ù…ÙŠ, Ahlam Mosteghanemi    1107\n",
       "Ø£Ø­Ù…Ø¯ Ù…Ø±Ø§Ø¯                                   984\n",
       "Name: sales rank, Length: 735, dtype: int64"
      ]
     },
     "execution_count": 46,
     "metadata": {},
     "output_type": "execute_result"
    }
   ],
   "source": [
    "max_by_category = dataset.groupby('Author')['sales rank'].max()\n",
    "max_by_category"
   ]
  },
  {
   "cell_type": "markdown",
   "metadata": {
    "collapsed": false,
    "jupyter": {
     "outputs_hidden": false
    }
   },
   "source": [
    "Вывод: Этот запрос показывает максимальные значения числовой переменной для каждой категории."
   ]
  },
  {
   "cell_type": "code",
   "execution_count": 47,
   "metadata": {
    "collapsed": false,
    "jupyter": {
     "outputs_hidden": false
    }
   },
   "outputs": [
    {
     "data": {
      "text/html": [
       "<div>\n",
       "<style scoped>\n",
       "    .dataframe tbody tr th:only-of-type {\n",
       "        vertical-align: middle;\n",
       "    }\n",
       "\n",
       "    .dataframe tbody tr th {\n",
       "        vertical-align: top;\n",
       "    }\n",
       "\n",
       "    .dataframe thead th {\n",
       "        text-align: right;\n",
       "    }\n",
       "</style>\n",
       "<table border=\"1\" class=\"dataframe\">\n",
       "  <thead>\n",
       "    <tr style=\"text-align: right;\">\n",
       "      <th></th>\n",
       "      <th>Author</th>\n",
       "      <th>Book Name</th>\n",
       "      <th>mean_value</th>\n",
       "    </tr>\n",
       "  </thead>\n",
       "  <tbody>\n",
       "    <tr>\n",
       "      <th>0</th>\n",
       "      <td>A.A. Milne, Ernest H. Shepard</td>\n",
       "      <td>The House at Pooh Corner</td>\n",
       "      <td>69102.0</td>\n",
       "    </tr>\n",
       "    <tr>\n",
       "      <th>1</th>\n",
       "      <td>A.S.A. Harrison</td>\n",
       "      <td>The Silent Wife</td>\n",
       "      <td>60323.0</td>\n",
       "    </tr>\n",
       "    <tr>\n",
       "      <th>2</th>\n",
       "      <td>Abbi Glines</td>\n",
       "      <td>Fallen Too Far (Too Far, #1)</td>\n",
       "      <td>138871.0</td>\n",
       "    </tr>\n",
       "    <tr>\n",
       "      <th>3</th>\n",
       "      <td>Abbi Glines</td>\n",
       "      <td>Never Too Far (Too Far, #2)</td>\n",
       "      <td>97616.0</td>\n",
       "    </tr>\n",
       "    <tr>\n",
       "      <th>4</th>\n",
       "      <td>Adam Johnson</td>\n",
       "      <td>The Orphan Master's Son</td>\n",
       "      <td>52765.0</td>\n",
       "    </tr>\n",
       "    <tr>\n",
       "      <th>...</th>\n",
       "      <td>...</td>\n",
       "      <td>...</td>\n",
       "      <td>...</td>\n",
       "    </tr>\n",
       "    <tr>\n",
       "      <th>1042</th>\n",
       "      <td>William Styron</td>\n",
       "      <td>Sophie's Choice</td>\n",
       "      <td>66923.0</td>\n",
       "    </tr>\n",
       "    <tr>\n",
       "      <th>1043</th>\n",
       "      <td>Yana Toboso, Tomo Kimura</td>\n",
       "      <td>é»’åŸ·äº‹ I [Kuroshitsuji I]</td>\n",
       "      <td>74378.0</td>\n",
       "    </tr>\n",
       "    <tr>\n",
       "      <th>1044</th>\n",
       "      <td>Zadie Smith</td>\n",
       "      <td>White Teeth</td>\n",
       "      <td>82474.0</td>\n",
       "    </tr>\n",
       "    <tr>\n",
       "      <th>1045</th>\n",
       "      <td>Ø£Ø­Ù„Ø§Ù… Ù…Ø³ØªØºØ§Ù†Ù…ÙŠ, Ahlam Mosteghanemi</td>\n",
       "      <td>Ø§Ù„Ø£Ø³ÙˆØ¯ ÙŠÙ„ÙŠÙ‚ Ø¨Ùƒ</td>\n",
       "      <td>42958.0</td>\n",
       "    </tr>\n",
       "    <tr>\n",
       "      <th>1046</th>\n",
       "      <td>Ø£Ø­Ù…Ø¯ Ù…Ø±Ø§Ø¯</td>\n",
       "      <td>Ø§Ù„ÙÙŠÙ„ Ø§Ù„Ø£Ø²Ø±Ù‚</td>\n",
       "      <td>53187.0</td>\n",
       "    </tr>\n",
       "  </tbody>\n",
       "</table>\n",
       "<p>1047 rows × 3 columns</p>\n",
       "</div>"
      ],
      "text/plain": [
       "                                               Author  \\\n",
       "0                       A.A. Milne, Ernest H. Shepard   \n",
       "1                                     A.S.A. Harrison   \n",
       "2                                         Abbi Glines   \n",
       "3                                         Abbi Glines   \n",
       "4                                        Adam Johnson   \n",
       "...                                               ...   \n",
       "1042                                   William Styron   \n",
       "1043                         Yana Toboso, Tomo Kimura   \n",
       "1044                                      Zadie Smith   \n",
       "1045  Ø£Ø­Ù„Ø§Ù… Ù…Ø³ØªØºØ§Ù†Ù…ÙŠ, Ahlam Mosteghanemi   \n",
       "1046                                Ø£Ø­Ù…Ø¯ Ù…Ø±Ø§Ø¯   \n",
       "\n",
       "                         Book Name  mean_value  \n",
       "0         The House at Pooh Corner     69102.0  \n",
       "1                  The Silent Wife     60323.0  \n",
       "2     Fallen Too Far (Too Far, #1)    138871.0  \n",
       "3      Never Too Far (Too Far, #2)     97616.0  \n",
       "4          The Orphan Master's Son     52765.0  \n",
       "...                            ...         ...  \n",
       "1042               Sophie's Choice     66923.0  \n",
       "1043  é»’åŸ·äº‹ I [Kuroshitsuji I]     74378.0  \n",
       "1044                   White Teeth     82474.0  \n",
       "1045    Ø§Ù„Ø£Ø³ÙˆØ¯ ÙŠÙ„ÙŠÙ‚ Ø¨Ùƒ     42958.0  \n",
       "1046       Ø§Ù„ÙÙŠÙ„ Ø§Ù„Ø£Ø²Ø±Ù‚     53187.0  \n",
       "\n",
       "[1047 rows x 3 columns]"
      ]
     },
     "execution_count": 47,
     "metadata": {},
     "output_type": "execute_result"
    }
   ],
   "source": [
    "mean_by_two_categories = dataset.groupby(['Author', 'Book Name'])['Book_ratings_count'].mean().reset_index(name='mean_value')\n",
    "mean_by_two_categories"
   ]
  },
  {
   "cell_type": "markdown",
   "metadata": {
    "collapsed": false,
    "jupyter": {
     "outputs_hidden": false
    }
   },
   "source": [
    "Вывод: Группировка по двум категориальным столбцам и подсчет средних значений числовой переменной может помочь выявить зависимости между переменными."
   ]
  },
  {
   "cell_type": "code",
   "execution_count": 49,
   "metadata": {
    "collapsed": false,
    "jupyter": {
     "outputs_hidden": false
    }
   },
   "outputs": [
    {
     "data": {
      "text/html": [
       "<div>\n",
       "<style scoped>\n",
       "    .dataframe tbody tr th:only-of-type {\n",
       "        vertical-align: middle;\n",
       "    }\n",
       "\n",
       "    .dataframe tbody tr th {\n",
       "        vertical-align: top;\n",
       "    }\n",
       "\n",
       "    .dataframe thead th {\n",
       "        text-align: right;\n",
       "    }\n",
       "</style>\n",
       "<table border=\"1\" class=\"dataframe\">\n",
       "  <thead>\n",
       "    <tr style=\"text-align: right;\">\n",
       "      <th></th>\n",
       "      <th>Author</th>\n",
       "      <th>units sold</th>\n",
       "      <th>counts</th>\n",
       "    </tr>\n",
       "  </thead>\n",
       "  <tbody>\n",
       "    <tr>\n",
       "      <th>0</th>\n",
       "      <td>A.A. Milne, Ernest H. Shepard</td>\n",
       "      <td>108</td>\n",
       "      <td>1</td>\n",
       "    </tr>\n",
       "    <tr>\n",
       "      <th>1</th>\n",
       "      <td>A.S.A. Harrison</td>\n",
       "      <td>28728</td>\n",
       "      <td>1</td>\n",
       "    </tr>\n",
       "    <tr>\n",
       "      <th>2</th>\n",
       "      <td>Abbi Glines</td>\n",
       "      <td>326</td>\n",
       "      <td>1</td>\n",
       "    </tr>\n",
       "    <tr>\n",
       "      <th>3</th>\n",
       "      <td>Abbi Glines</td>\n",
       "      <td>30456</td>\n",
       "      <td>1</td>\n",
       "    </tr>\n",
       "    <tr>\n",
       "      <th>4</th>\n",
       "      <td>Adam Johnson</td>\n",
       "      <td>4320</td>\n",
       "      <td>1</td>\n",
       "    </tr>\n",
       "    <tr>\n",
       "      <th>...</th>\n",
       "      <td>...</td>\n",
       "      <td>...</td>\n",
       "      <td>...</td>\n",
       "    </tr>\n",
       "    <tr>\n",
       "      <th>1061</th>\n",
       "      <td>William Styron</td>\n",
       "      <td>4400</td>\n",
       "      <td>1</td>\n",
       "    </tr>\n",
       "    <tr>\n",
       "      <th>1062</th>\n",
       "      <td>Yana Toboso, Tomo Kimura</td>\n",
       "      <td>2889</td>\n",
       "      <td>1</td>\n",
       "    </tr>\n",
       "    <tr>\n",
       "      <th>1063</th>\n",
       "      <td>Zadie Smith</td>\n",
       "      <td>4563</td>\n",
       "      <td>1</td>\n",
       "    </tr>\n",
       "    <tr>\n",
       "      <th>1064</th>\n",
       "      <td>Ø£Ø­Ù„Ø§Ù… Ù…Ø³ØªØºØ§Ù†Ù…ÙŠ, Ahlam Mosteghanemi</td>\n",
       "      <td>4320</td>\n",
       "      <td>1</td>\n",
       "    </tr>\n",
       "    <tr>\n",
       "      <th>1065</th>\n",
       "      <td>Ø£Ø­Ù…Ø¯ Ù…Ø±Ø§Ø¯</td>\n",
       "      <td>2889</td>\n",
       "      <td>1</td>\n",
       "    </tr>\n",
       "  </tbody>\n",
       "</table>\n",
       "<p>1066 rows × 3 columns</p>\n",
       "</div>"
      ],
      "text/plain": [
       "                                               Author  units sold  counts\n",
       "0                       A.A. Milne, Ernest H. Shepard         108       1\n",
       "1                                     A.S.A. Harrison       28728       1\n",
       "2                                         Abbi Glines         326       1\n",
       "3                                         Abbi Glines       30456       1\n",
       "4                                        Adam Johnson        4320       1\n",
       "...                                               ...         ...     ...\n",
       "1061                                   William Styron        4400       1\n",
       "1062                         Yana Toboso, Tomo Kimura        2889       1\n",
       "1063                                      Zadie Smith        4563       1\n",
       "1064  Ø£Ø­Ù„Ø§Ù… Ù…Ø³ØªØºØ§Ù†Ù…ÙŠ, Ahlam Mosteghanemi        4320       1\n",
       "1065                                Ø£Ø­Ù…Ø¯ Ù…Ø±Ø§Ø¯        2889       1\n",
       "\n",
       "[1066 rows x 3 columns]"
      ]
     },
     "execution_count": 49,
     "metadata": {},
     "output_type": "execute_result"
    }
   ],
   "source": [
    "count_by_category = dataset.groupby(['Author', 'units sold']).size().reset_index(name='counts')\n",
    "count_by_category"
   ]
  },
  {
   "cell_type": "markdown",
   "metadata": {
    "collapsed": false,
    "jupyter": {
     "outputs_hidden": false
    }
   },
   "source": [
    "Вывод: Группировка и подсчет количества записей по двум переменным может помочь понять распределение данных."
   ]
  },
  {
   "cell_type": "code",
   "execution_count": null,
   "metadata": {
    "collapsed": false,
    "jupyter": {
     "outputs_hidden": false
    }
   },
   "outputs": [],
   "source": []
  },
  {
   "cell_type": "code",
   "execution_count": null,
   "metadata": {
    "collapsed": false,
    "jupyter": {
     "outputs_hidden": false
    }
   },
   "outputs": [],
   "source": []
  }
 ],
 "metadata": {
  "kernelspec": {
   "display_name": "Python 3 (ipykernel)",
   "language": "python",
   "name": "python3"
  },
  "language_info": {
   "codemirror_mode": {
    "name": "ipython",
    "version": 3
   },
   "file_extension": ".py",
   "mimetype": "text/x-python",
   "name": "python",
   "nbconvert_exporter": "python",
   "pygments_lexer": "ipython3",
   "version": "3.11.6"
  }
 },
 "nbformat": 4,
 "nbformat_minor": 4
}
